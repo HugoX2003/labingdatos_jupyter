{
 "cells": [
  {
   "metadata": {},
   "cell_type": "markdown",
   "source": "# Crear un DataFrame",
   "id": "ea87870f3f0eede6"
  },
  {
   "metadata": {
    "ExecuteTime": {
     "end_time": "2024-06-20T17:35:19.891108Z",
     "start_time": "2024-06-20T17:35:19.887110Z"
    }
   },
   "cell_type": "code",
   "source": [
    "# Importamos la librería Pandas\n",
    "import pandas as pd"
   ],
   "id": "cc3df05119fa9e63",
   "outputs": [],
   "execution_count": 9
  },
  {
   "metadata": {
    "ExecuteTime": {
     "end_time": "2024-06-20T17:35:21.675527Z",
     "start_time": "2024-06-20T17:35:21.664497Z"
    }
   },
   "cell_type": "code",
   "source": [
    "# Definimos el diccionario d\n",
    "d = { 'Nombre':       ['Rosa', 'Juan', 'María', 'Pedro'],\n",
    "      'ID':           [1, 2, 3, 4],\n",
    "      'Departamento': ['Ventas', 'Logistica', 'Contabilidad', 'Sistemas'],\n",
    "      'Sueldo': [1500, 2000, 2500, 3000]\n",
    "    }\n",
    "\n",
    "# Convertimos el Diccionario a un DataFrame\n",
    "DF = pd.DataFrame(d)\n",
    "\n",
    "# Mostramos los resultados\n",
    "DF"
   ],
   "id": "561ab8f8a1702601",
   "outputs": [
    {
     "data": {
      "text/plain": [
       "  Nombre  ID  Departamento  Sueldo\n",
       "0   Rosa   1        Ventas    1500\n",
       "1   Juan   2     Logistica    2000\n",
       "2  María   3  Contabilidad    2500\n",
       "3  Pedro   4      Sistemas    3000"
      ],
      "text/html": [
       "<div>\n",
       "<style scoped>\n",
       "    .dataframe tbody tr th:only-of-type {\n",
       "        vertical-align: middle;\n",
       "    }\n",
       "\n",
       "    .dataframe tbody tr th {\n",
       "        vertical-align: top;\n",
       "    }\n",
       "\n",
       "    .dataframe thead th {\n",
       "        text-align: right;\n",
       "    }\n",
       "</style>\n",
       "<table border=\"1\" class=\"dataframe\">\n",
       "  <thead>\n",
       "    <tr style=\"text-align: right;\">\n",
       "      <th></th>\n",
       "      <th>Nombre</th>\n",
       "      <th>ID</th>\n",
       "      <th>Departamento</th>\n",
       "      <th>Sueldo</th>\n",
       "    </tr>\n",
       "  </thead>\n",
       "  <tbody>\n",
       "    <tr>\n",
       "      <th>0</th>\n",
       "      <td>Rosa</td>\n",
       "      <td>1</td>\n",
       "      <td>Ventas</td>\n",
       "      <td>1500</td>\n",
       "    </tr>\n",
       "    <tr>\n",
       "      <th>1</th>\n",
       "      <td>Juan</td>\n",
       "      <td>2</td>\n",
       "      <td>Logistica</td>\n",
       "      <td>2000</td>\n",
       "    </tr>\n",
       "    <tr>\n",
       "      <th>2</th>\n",
       "      <td>María</td>\n",
       "      <td>3</td>\n",
       "      <td>Contabilidad</td>\n",
       "      <td>2500</td>\n",
       "    </tr>\n",
       "    <tr>\n",
       "      <th>3</th>\n",
       "      <td>Pedro</td>\n",
       "      <td>4</td>\n",
       "      <td>Sistemas</td>\n",
       "      <td>3000</td>\n",
       "    </tr>\n",
       "  </tbody>\n",
       "</table>\n",
       "</div>"
      ]
     },
     "execution_count": 10,
     "metadata": {},
     "output_type": "execute_result"
    }
   ],
   "execution_count": 10
  },
  {
   "metadata": {},
   "cell_type": "markdown",
   "source": "# Seleccionar Columnas",
   "id": "4c2a8e3285eaf87d"
  },
  {
   "metadata": {},
   "cell_type": "markdown",
   "source": [
    "Para seleccionar una columna del DataFrame, accedemos a las columnas llamándolas por su nombre.\n",
    "Recuperamos los datos presentes en la columna ID."
   ],
   "id": "6982a839d3f16bec"
  },
  {
   "metadata": {
    "ExecuteTime": {
     "end_time": "2024-06-20T16:40:26.915056Z",
     "start_time": "2024-06-20T16:40:26.904016Z"
    }
   },
   "cell_type": "code",
   "source": [
    "# Recuperamos la Columna ID y le asignamos a la variable \"d\"\n",
    "d = DF[['ID']]\n",
    "d"
   ],
   "id": "4cf64bab0d00d53e",
   "outputs": [
    {
     "data": {
      "text/plain": [
       "   ID\n",
       "0   1\n",
       "1   2\n",
       "2   3\n",
       "3   4"
      ],
      "text/html": [
       "<div>\n",
       "<style scoped>\n",
       "    .dataframe tbody tr th:only-of-type {\n",
       "        vertical-align: middle;\n",
       "    }\n",
       "\n",
       "    .dataframe tbody tr th {\n",
       "        vertical-align: top;\n",
       "    }\n",
       "\n",
       "    .dataframe thead th {\n",
       "        text-align: right;\n",
       "    }\n",
       "</style>\n",
       "<table border=\"1\" class=\"dataframe\">\n",
       "  <thead>\n",
       "    <tr style=\"text-align: right;\">\n",
       "      <th></th>\n",
       "      <th>ID</th>\n",
       "    </tr>\n",
       "  </thead>\n",
       "  <tbody>\n",
       "    <tr>\n",
       "      <th>0</th>\n",
       "      <td>1</td>\n",
       "    </tr>\n",
       "    <tr>\n",
       "      <th>1</th>\n",
       "      <td>2</td>\n",
       "    </tr>\n",
       "    <tr>\n",
       "      <th>2</th>\n",
       "      <td>3</td>\n",
       "    </tr>\n",
       "    <tr>\n",
       "      <th>3</th>\n",
       "      <td>4</td>\n",
       "    </tr>\n",
       "  </tbody>\n",
       "</table>\n",
       "</div>"
      ]
     },
     "execution_count": 3,
     "metadata": {},
     "output_type": "execute_result"
    }
   ],
   "execution_count": 3
  },
  {
   "metadata": {},
   "cell_type": "markdown",
   "source": "Usamos la función type() para verifiquemos el tipo de variable.",
   "id": "3967ec838868f9df"
  },
  {
   "metadata": {
    "ExecuteTime": {
     "end_time": "2024-06-20T16:41:35.658754Z",
     "start_time": "2024-06-20T16:41:35.651985Z"
    }
   },
   "cell_type": "code",
   "source": [
    "# Verificamos el tipo de variable de d\n",
    "type(d)"
   ],
   "id": "9846ea3e848d1c8a",
   "outputs": [
    {
     "data": {
      "text/plain": [
       "pandas.core.frame.DataFrame"
      ]
     },
     "execution_count": 4,
     "metadata": {},
     "output_type": "execute_result"
    }
   ],
   "execution_count": 4
  },
  {
   "metadata": {},
   "cell_type": "markdown",
   "source": "El resultado nos muestra que el tipo de variable es un objeto DataFrame.",
   "id": "e5e3d631567afff3"
  },
  {
   "metadata": {},
   "cell_type": "markdown",
   "source": "### Seleccionar dos columnas",
   "id": "27ddd0bcdfdc4a63"
  },
  {
   "metadata": {
    "ExecuteTime": {
     "end_time": "2024-06-20T16:43:16.925955Z",
     "start_time": "2024-06-20T16:43:16.915463Z"
    }
   },
   "cell_type": "code",
   "source": "DF[['Nombre', 'Sueldo']]",
   "id": "1efdaee1a91e7ca2",
   "outputs": [
    {
     "data": {
      "text/plain": [
       "  Nombre  Sueldo\n",
       "0   Rosa    1500\n",
       "1   Juan    2000\n",
       "2  María    2500\n",
       "3  Pedro    3000"
      ],
      "text/html": [
       "<div>\n",
       "<style scoped>\n",
       "    .dataframe tbody tr th:only-of-type {\n",
       "        vertical-align: middle;\n",
       "    }\n",
       "\n",
       "    .dataframe tbody tr th {\n",
       "        vertical-align: top;\n",
       "    }\n",
       "\n",
       "    .dataframe thead th {\n",
       "        text-align: right;\n",
       "    }\n",
       "</style>\n",
       "<table border=\"1\" class=\"dataframe\">\n",
       "  <thead>\n",
       "    <tr style=\"text-align: right;\">\n",
       "      <th></th>\n",
       "      <th>Nombre</th>\n",
       "      <th>Sueldo</th>\n",
       "    </tr>\n",
       "  </thead>\n",
       "  <tbody>\n",
       "    <tr>\n",
       "      <th>0</th>\n",
       "      <td>Rosa</td>\n",
       "      <td>1500</td>\n",
       "    </tr>\n",
       "    <tr>\n",
       "      <th>1</th>\n",
       "      <td>Juan</td>\n",
       "      <td>2000</td>\n",
       "    </tr>\n",
       "    <tr>\n",
       "      <th>2</th>\n",
       "      <td>María</td>\n",
       "      <td>2500</td>\n",
       "    </tr>\n",
       "    <tr>\n",
       "      <th>3</th>\n",
       "      <td>Pedro</td>\n",
       "      <td>3000</td>\n",
       "    </tr>\n",
       "  </tbody>\n",
       "</table>\n",
       "</div>"
      ]
     },
     "execution_count": 5,
     "metadata": {},
     "output_type": "execute_result"
    }
   ],
   "execution_count": 5
  },
  {
   "metadata": {},
   "cell_type": "markdown",
   "source": "### Seleccionar de la Columna 2 hasta la columna 4 (un rango)",
   "id": "9780f7383138c3e5"
  },
  {
   "metadata": {
    "ExecuteTime": {
     "end_time": "2024-06-20T17:25:25.824719Z",
     "start_time": "2024-06-20T17:25:25.796085Z"
    }
   },
   "cell_type": "code",
   "source": [
    "# Defino df para los datos del archivo csv Empleado\n",
    "df = pd.read_csv(\"data/Empleado.csv\")"
   ],
   "id": "cdf9289c105f33ec",
   "outputs": [],
   "execution_count": 3
  },
  {
   "metadata": {
    "ExecuteTime": {
     "end_time": "2024-06-20T17:25:46.924495Z",
     "start_time": "2024-06-20T17:25:46.908226Z"
    }
   },
   "cell_type": "code",
   "source": "df[df.columns[1:4]]",
   "id": "b5189c0d9f3d2c7e",
   "outputs": [
    {
     "data": {
      "text/plain": [
       "     Renuncia     ViajesNegocios  TarifaDiaria\n",
       "0         Yes      Travel_Rarely          1102\n",
       "1          No  Travel_Frequently           279\n",
       "2         Yes      Travel_Rarely          1373\n",
       "3          No  Travel_Frequently          1392\n",
       "4         Yes      Travel_Rarely          1373\n",
       "...       ...                ...           ...\n",
       "1480       No         Non-Travel          1162\n",
       "1481       No                NaN          1490\n",
       "1482       No                NaN           581\n",
       "1483       No                NaN          1395\n",
       "1484       No                NaN           501\n",
       "\n",
       "[1485 rows x 3 columns]"
      ],
      "text/html": [
       "<div>\n",
       "<style scoped>\n",
       "    .dataframe tbody tr th:only-of-type {\n",
       "        vertical-align: middle;\n",
       "    }\n",
       "\n",
       "    .dataframe tbody tr th {\n",
       "        vertical-align: top;\n",
       "    }\n",
       "\n",
       "    .dataframe thead th {\n",
       "        text-align: right;\n",
       "    }\n",
       "</style>\n",
       "<table border=\"1\" class=\"dataframe\">\n",
       "  <thead>\n",
       "    <tr style=\"text-align: right;\">\n",
       "      <th></th>\n",
       "      <th>Renuncia</th>\n",
       "      <th>ViajesNegocios</th>\n",
       "      <th>TarifaDiaria</th>\n",
       "    </tr>\n",
       "  </thead>\n",
       "  <tbody>\n",
       "    <tr>\n",
       "      <th>0</th>\n",
       "      <td>Yes</td>\n",
       "      <td>Travel_Rarely</td>\n",
       "      <td>1102</td>\n",
       "    </tr>\n",
       "    <tr>\n",
       "      <th>1</th>\n",
       "      <td>No</td>\n",
       "      <td>Travel_Frequently</td>\n",
       "      <td>279</td>\n",
       "    </tr>\n",
       "    <tr>\n",
       "      <th>2</th>\n",
       "      <td>Yes</td>\n",
       "      <td>Travel_Rarely</td>\n",
       "      <td>1373</td>\n",
       "    </tr>\n",
       "    <tr>\n",
       "      <th>3</th>\n",
       "      <td>No</td>\n",
       "      <td>Travel_Frequently</td>\n",
       "      <td>1392</td>\n",
       "    </tr>\n",
       "    <tr>\n",
       "      <th>4</th>\n",
       "      <td>Yes</td>\n",
       "      <td>Travel_Rarely</td>\n",
       "      <td>1373</td>\n",
       "    </tr>\n",
       "    <tr>\n",
       "      <th>...</th>\n",
       "      <td>...</td>\n",
       "      <td>...</td>\n",
       "      <td>...</td>\n",
       "    </tr>\n",
       "    <tr>\n",
       "      <th>1480</th>\n",
       "      <td>No</td>\n",
       "      <td>Non-Travel</td>\n",
       "      <td>1162</td>\n",
       "    </tr>\n",
       "    <tr>\n",
       "      <th>1481</th>\n",
       "      <td>No</td>\n",
       "      <td>NaN</td>\n",
       "      <td>1490</td>\n",
       "    </tr>\n",
       "    <tr>\n",
       "      <th>1482</th>\n",
       "      <td>No</td>\n",
       "      <td>NaN</td>\n",
       "      <td>581</td>\n",
       "    </tr>\n",
       "    <tr>\n",
       "      <th>1483</th>\n",
       "      <td>No</td>\n",
       "      <td>NaN</td>\n",
       "      <td>1395</td>\n",
       "    </tr>\n",
       "    <tr>\n",
       "      <th>1484</th>\n",
       "      <td>No</td>\n",
       "      <td>NaN</td>\n",
       "      <td>501</td>\n",
       "    </tr>\n",
       "  </tbody>\n",
       "</table>\n",
       "<p>1485 rows × 3 columns</p>\n",
       "</div>"
      ]
     },
     "execution_count": 6,
     "metadata": {},
     "output_type": "execute_result"
    }
   ],
   "execution_count": 6
  },
  {
   "metadata": {},
   "cell_type": "markdown",
   "source": [
    "### Acceso a múltiples columnas\n",
    "#### Recuperemos los datos de las columnas: ID, Departamento y Sueldo\n"
   ],
   "id": "2741709eaa83f652"
  },
  {
   "metadata": {
    "ExecuteTime": {
     "end_time": "2024-06-20T17:17:35.163190Z",
     "start_time": "2024-06-20T17:17:35.153134Z"
    }
   },
   "cell_type": "code",
   "source": [
    "# Recuperamos las columnas ID, Departamento y Sueldo y las asignamos a la variable \"x\"\n",
    "x = DF[['ID', 'Departamento', 'Sueldo']]\n",
    "x"
   ],
   "id": "fcb0e12994990e0",
   "outputs": [
    {
     "data": {
      "text/plain": [
       "        ID  Departamento  Sueldo\n",
       "Uno      1        Ventas    1500\n",
       "Dos      2     Logistica    2000\n",
       "Tres     3  Contabilidad    2500\n",
       "Cuatro   4      Sistemas    3000"
      ],
      "text/html": [
       "<div>\n",
       "<style scoped>\n",
       "    .dataframe tbody tr th:only-of-type {\n",
       "        vertical-align: middle;\n",
       "    }\n",
       "\n",
       "    .dataframe tbody tr th {\n",
       "        vertical-align: top;\n",
       "    }\n",
       "\n",
       "    .dataframe thead th {\n",
       "        text-align: right;\n",
       "    }\n",
       "</style>\n",
       "<table border=\"1\" class=\"dataframe\">\n",
       "  <thead>\n",
       "    <tr style=\"text-align: right;\">\n",
       "      <th></th>\n",
       "      <th>ID</th>\n",
       "      <th>Departamento</th>\n",
       "      <th>Sueldo</th>\n",
       "    </tr>\n",
       "  </thead>\n",
       "  <tbody>\n",
       "    <tr>\n",
       "      <th>Uno</th>\n",
       "      <td>1</td>\n",
       "      <td>Ventas</td>\n",
       "      <td>1500</td>\n",
       "    </tr>\n",
       "    <tr>\n",
       "      <th>Dos</th>\n",
       "      <td>2</td>\n",
       "      <td>Logistica</td>\n",
       "      <td>2000</td>\n",
       "    </tr>\n",
       "    <tr>\n",
       "      <th>Tres</th>\n",
       "      <td>3</td>\n",
       "      <td>Contabilidad</td>\n",
       "      <td>2500</td>\n",
       "    </tr>\n",
       "    <tr>\n",
       "      <th>Cuatro</th>\n",
       "      <td>4</td>\n",
       "      <td>Sistemas</td>\n",
       "      <td>3000</td>\n",
       "    </tr>\n",
       "  </tbody>\n",
       "</table>\n",
       "</div>"
      ]
     },
     "execution_count": 26,
     "metadata": {},
     "output_type": "execute_result"
    }
   ],
   "execution_count": 26
  },
  {
   "metadata": {},
   "cell_type": "markdown",
   "source": [
    "# Configuración de índices de un DataFrame (Indexación)\n",
    "### El índice de un DataFrame se crea con números desde 0, pero se puede asignar etiquetas o propios valores."
   ],
   "id": "96e7398ff1c3cf99"
  },
  {
   "metadata": {
    "ExecuteTime": {
     "end_time": "2024-06-20T17:39:57.177452Z",
     "start_time": "2024-06-20T17:39:57.167683Z"
    }
   },
   "cell_type": "code",
   "source": [
    "dfi = DF.set_index('Nombre')\n",
    "dfi"
   ],
   "id": "2925410126244ecd",
   "outputs": [
    {
     "data": {
      "text/plain": [
       "        ID  Departamento  Sueldo\n",
       "Nombre                          \n",
       "Rosa     1        Ventas    1500\n",
       "Juan     2     Logistica    2000\n",
       "María    3  Contabilidad    2500\n",
       "Pedro    4      Sistemas    3000"
      ],
      "text/html": [
       "<div>\n",
       "<style scoped>\n",
       "    .dataframe tbody tr th:only-of-type {\n",
       "        vertical-align: middle;\n",
       "    }\n",
       "\n",
       "    .dataframe tbody tr th {\n",
       "        vertical-align: top;\n",
       "    }\n",
       "\n",
       "    .dataframe thead th {\n",
       "        text-align: right;\n",
       "    }\n",
       "</style>\n",
       "<table border=\"1\" class=\"dataframe\">\n",
       "  <thead>\n",
       "    <tr style=\"text-align: right;\">\n",
       "      <th></th>\n",
       "      <th>ID</th>\n",
       "      <th>Departamento</th>\n",
       "      <th>Sueldo</th>\n",
       "    </tr>\n",
       "    <tr>\n",
       "      <th>Nombre</th>\n",
       "      <th></th>\n",
       "      <th></th>\n",
       "      <th></th>\n",
       "    </tr>\n",
       "  </thead>\n",
       "  <tbody>\n",
       "    <tr>\n",
       "      <th>Rosa</th>\n",
       "      <td>1</td>\n",
       "      <td>Ventas</td>\n",
       "      <td>1500</td>\n",
       "    </tr>\n",
       "    <tr>\n",
       "      <th>Juan</th>\n",
       "      <td>2</td>\n",
       "      <td>Logistica</td>\n",
       "      <td>2000</td>\n",
       "    </tr>\n",
       "    <tr>\n",
       "      <th>María</th>\n",
       "      <td>3</td>\n",
       "      <td>Contabilidad</td>\n",
       "      <td>2500</td>\n",
       "    </tr>\n",
       "    <tr>\n",
       "      <th>Pedro</th>\n",
       "      <td>4</td>\n",
       "      <td>Sistemas</td>\n",
       "      <td>3000</td>\n",
       "    </tr>\n",
       "  </tbody>\n",
       "</table>\n",
       "</div>"
      ]
     },
     "execution_count": 17,
     "metadata": {},
     "output_type": "execute_result"
    }
   ],
   "execution_count": 17
  },
  {
   "metadata": {
    "ExecuteTime": {
     "end_time": "2024-06-20T17:17:40.192573Z",
     "start_time": "2024-06-20T17:17:40.183600Z"
    }
   },
   "cell_type": "code",
   "source": [
    "DF.index = ['Uno', 'Dos', 'Tres', 'Cuatro']\n",
    "DF"
   ],
   "id": "b17194a40f324d19",
   "outputs": [
    {
     "data": {
      "text/plain": [
       "       Nombre  ID  Departamento  Sueldo\n",
       "Uno      Rosa   1        Ventas    1500\n",
       "Dos      Juan   2     Logistica    2000\n",
       "Tres    María   3  Contabilidad    2500\n",
       "Cuatro  Pedro   4      Sistemas    3000"
      ],
      "text/html": [
       "<div>\n",
       "<style scoped>\n",
       "    .dataframe tbody tr th:only-of-type {\n",
       "        vertical-align: middle;\n",
       "    }\n",
       "\n",
       "    .dataframe tbody tr th {\n",
       "        vertical-align: top;\n",
       "    }\n",
       "\n",
       "    .dataframe thead th {\n",
       "        text-align: right;\n",
       "    }\n",
       "</style>\n",
       "<table border=\"1\" class=\"dataframe\">\n",
       "  <thead>\n",
       "    <tr style=\"text-align: right;\">\n",
       "      <th></th>\n",
       "      <th>Nombre</th>\n",
       "      <th>ID</th>\n",
       "      <th>Departamento</th>\n",
       "      <th>Sueldo</th>\n",
       "    </tr>\n",
       "  </thead>\n",
       "  <tbody>\n",
       "    <tr>\n",
       "      <th>Uno</th>\n",
       "      <td>Rosa</td>\n",
       "      <td>1</td>\n",
       "      <td>Ventas</td>\n",
       "      <td>1500</td>\n",
       "    </tr>\n",
       "    <tr>\n",
       "      <th>Dos</th>\n",
       "      <td>Juan</td>\n",
       "      <td>2</td>\n",
       "      <td>Logistica</td>\n",
       "      <td>2000</td>\n",
       "    </tr>\n",
       "    <tr>\n",
       "      <th>Tres</th>\n",
       "      <td>María</td>\n",
       "      <td>3</td>\n",
       "      <td>Contabilidad</td>\n",
       "      <td>2500</td>\n",
       "    </tr>\n",
       "    <tr>\n",
       "      <th>Cuatro</th>\n",
       "      <td>Pedro</td>\n",
       "      <td>4</td>\n",
       "      <td>Sistemas</td>\n",
       "      <td>3000</td>\n",
       "    </tr>\n",
       "  </tbody>\n",
       "</table>\n",
       "</div>"
      ]
     },
     "execution_count": 28,
     "metadata": {},
     "output_type": "execute_result"
    }
   ],
   "execution_count": 28
  },
  {
   "metadata": {},
   "cell_type": "markdown",
   "source": [
    "# Segmentación de un DataFrame\n",
    "### Es posible segmentar un DataFrame para recuperar filas de él.\n"
   ],
   "id": "4c2a6cc5da1ed247"
  },
  {
   "metadata": {
    "ExecuteTime": {
     "end_time": "2024-06-20T17:17:42.815232Z",
     "start_time": "2024-06-20T17:17:42.805150Z"
    }
   },
   "cell_type": "code",
   "source": "DF [0:2]",
   "id": "f7a109482c082849",
   "outputs": [
    {
     "data": {
      "text/plain": [
       "    Nombre  ID Departamento  Sueldo\n",
       "Uno   Rosa   1       Ventas    1500\n",
       "Dos   Juan   2    Logistica    2000"
      ],
      "text/html": [
       "<div>\n",
       "<style scoped>\n",
       "    .dataframe tbody tr th:only-of-type {\n",
       "        vertical-align: middle;\n",
       "    }\n",
       "\n",
       "    .dataframe tbody tr th {\n",
       "        vertical-align: top;\n",
       "    }\n",
       "\n",
       "    .dataframe thead th {\n",
       "        text-align: right;\n",
       "    }\n",
       "</style>\n",
       "<table border=\"1\" class=\"dataframe\">\n",
       "  <thead>\n",
       "    <tr style=\"text-align: right;\">\n",
       "      <th></th>\n",
       "      <th>Nombre</th>\n",
       "      <th>ID</th>\n",
       "      <th>Departamento</th>\n",
       "      <th>Sueldo</th>\n",
       "    </tr>\n",
       "  </thead>\n",
       "  <tbody>\n",
       "    <tr>\n",
       "      <th>Uno</th>\n",
       "      <td>Rosa</td>\n",
       "      <td>1</td>\n",
       "      <td>Ventas</td>\n",
       "      <td>1500</td>\n",
       "    </tr>\n",
       "    <tr>\n",
       "      <th>Dos</th>\n",
       "      <td>Juan</td>\n",
       "      <td>2</td>\n",
       "      <td>Logistica</td>\n",
       "      <td>2000</td>\n",
       "    </tr>\n",
       "  </tbody>\n",
       "</table>\n",
       "</div>"
      ]
     },
     "execution_count": 29,
     "metadata": {},
     "output_type": "execute_result"
    }
   ],
   "execution_count": 29
  },
  {
   "metadata": {},
   "cell_type": "markdown",
   "source": "### Métodos Loc() e iLoc()",
   "id": "70663aceb00c7bb2"
  },
  {
   "metadata": {
    "ExecuteTime": {
     "end_time": "2024-06-20T17:35:53.654284Z",
     "start_time": "2024-06-20T17:35:53.648413Z"
    }
   },
   "cell_type": "code",
   "source": [
    "#Accedemos a la columna utilizando el nombre\n",
    "DF.loc[0,'Sueldo']"
   ],
   "id": "5ca80c48f95cd193",
   "outputs": [
    {
     "data": {
      "text/plain": [
       "1500"
      ]
     },
     "execution_count": 12,
     "metadata": {},
     "output_type": "execute_result"
    }
   ],
   "execution_count": 12
  },
  {
   "metadata": {
    "ExecuteTime": {
     "end_time": "2024-06-20T17:36:50.904072Z",
     "start_time": "2024-06-20T17:36:50.898260Z"
    }
   },
   "cell_type": "code",
   "source": [
    "# Accedemos al valor de la primera fila y la primera columna\n",
    "DF.iloc[0,0]"
   ],
   "id": "236e608e465014d2",
   "outputs": [
    {
     "data": {
      "text/plain": [
       "'Rosa'"
      ]
     },
     "execution_count": 13,
     "metadata": {},
     "output_type": "execute_result"
    }
   ],
   "execution_count": 13
  },
  {
   "metadata": {
    "ExecuteTime": {
     "end_time": "2024-06-20T17:37:22.300475Z",
     "start_time": "2024-06-20T17:37:22.293470Z"
    }
   },
   "cell_type": "code",
   "source": [
    "# Accedemos a los valores del primer objeto\n",
    "DF.iloc[0]"
   ],
   "id": "aa4de2892d16d823",
   "outputs": [
    {
     "data": {
      "text/plain": [
       "Nombre            Rosa\n",
       "ID                   1\n",
       "Departamento    Ventas\n",
       "Sueldo            1500\n",
       "Name: 0, dtype: object"
      ]
     },
     "execution_count": 14,
     "metadata": {},
     "output_type": "execute_result"
    }
   ],
   "execution_count": 14
  },
  {
   "metadata": {
    "ExecuteTime": {
     "end_time": "2024-06-20T17:38:11.373153Z",
     "start_time": "2024-06-20T17:38:11.367477Z"
    }
   },
   "cell_type": "code",
   "source": [
    "# Accedemos al valor de la primera fila y de la tercera columna\n",
    "DF.iloc[0,2]"
   ],
   "id": "dbb75203acbcba7c",
   "outputs": [
    {
     "data": {
      "text/plain": [
       "'Ventas'"
      ]
     },
     "execution_count": 15,
     "metadata": {},
     "output_type": "execute_result"
    }
   ],
   "execution_count": 15
  },
  {
   "metadata": {},
   "cell_type": "markdown",
   "source": "### Para el DataFrame dfi mostrar el Departamento por el nombre del Empleado",
   "id": "2381e25e7c17f6b3"
  },
  {
   "metadata": {
    "ExecuteTime": {
     "end_time": "2024-06-20T17:40:02.500440Z",
     "start_time": "2024-06-20T17:40:02.494355Z"
    }
   },
   "cell_type": "code",
   "source": "dfi.loc['Pedro','Departamento']",
   "id": "b5da6c0cb17bc334",
   "outputs": [
    {
     "data": {
      "text/plain": [
       "'Sistemas'"
      ]
     },
     "execution_count": 18,
     "metadata": {},
     "output_type": "execute_result"
    }
   ],
   "execution_count": 18
  },
  {
   "metadata": {},
   "cell_type": "markdown",
   "source": "### Seleccionar las dos primeras filas desde la columna Nombre hasta la columna Departamento",
   "id": "e5ccc262ba8a0b7d"
  },
  {
   "metadata": {
    "ExecuteTime": {
     "end_time": "2024-06-20T17:41:07.349188Z",
     "start_time": "2024-06-20T17:41:07.334188Z"
    }
   },
   "cell_type": "code",
   "source": "DF.loc[0:1, 'Nombre':'Departamento']",
   "id": "158906cf438cd9e8",
   "outputs": [
    {
     "data": {
      "text/plain": [
       "  Nombre  ID Departamento\n",
       "0   Rosa   1       Ventas\n",
       "1   Juan   2    Logistica"
      ],
      "text/html": [
       "<div>\n",
       "<style scoped>\n",
       "    .dataframe tbody tr th:only-of-type {\n",
       "        vertical-align: middle;\n",
       "    }\n",
       "\n",
       "    .dataframe tbody tr th {\n",
       "        vertical-align: top;\n",
       "    }\n",
       "\n",
       "    .dataframe thead th {\n",
       "        text-align: right;\n",
       "    }\n",
       "</style>\n",
       "<table border=\"1\" class=\"dataframe\">\n",
       "  <thead>\n",
       "    <tr style=\"text-align: right;\">\n",
       "      <th></th>\n",
       "      <th>Nombre</th>\n",
       "      <th>ID</th>\n",
       "      <th>Departamento</th>\n",
       "    </tr>\n",
       "  </thead>\n",
       "  <tbody>\n",
       "    <tr>\n",
       "      <th>0</th>\n",
       "      <td>Rosa</td>\n",
       "      <td>1</td>\n",
       "      <td>Ventas</td>\n",
       "    </tr>\n",
       "    <tr>\n",
       "      <th>1</th>\n",
       "      <td>Juan</td>\n",
       "      <td>2</td>\n",
       "      <td>Logistica</td>\n",
       "    </tr>\n",
       "  </tbody>\n",
       "</table>\n",
       "</div>"
      ]
     },
     "execution_count": 19,
     "metadata": {},
     "output_type": "execute_result"
    }
   ],
   "execution_count": 19
  },
  {
   "metadata": {},
   "cell_type": "markdown",
   "source": "# PRÁCTICA: Crear un DataFrame para obtener el siguiente resultado\n",
   "id": "8db4e7072dbcdd1b"
  },
  {
   "metadata": {
    "ExecuteTime": {
     "end_time": "2024-06-20T17:48:03.018672Z",
     "start_time": "2024-06-20T17:48:03.008288Z"
    }
   },
   "cell_type": "code",
   "source": [
    "# Definimos el diccionario d2\n",
    "d2 = { 'Estudiante': ['Juan', 'Carlos', 'Rosa', 'Jean', 'Lourdes', 'Mario'],\n",
    "       'Edad':       [19,20,18,18,20,18],\n",
    "       'Promedio':   [15,12,8,18,10,17],\n",
    "       'Ciclo':      ['V', 'VI', 'V', 'IV', 'IX', 'V'],\n",
    "       'Curso':      ['Ingenieria de Datos', 'Base de Datos', 'Algoritmos',              'Tesis', 'Proyecto de Tesis', 'Programación']\n",
    "    }\n",
    "\n",
    "# Convertimos el Diccionario a un DataFrame\n",
    "DF2 = pd.DataFrame(d2)\n",
    "\n",
    "# Mostramos los resultados\n",
    "DF2"
   ],
   "id": "a597a4f74b1cf819",
   "outputs": [
    {
     "data": {
      "text/plain": [
       "  Estudiante  Edad  Promedio Ciclo                Curso\n",
       "0       Juan    19        15     V  Ingenieria de Datos\n",
       "1     Carlos    20        12    VI        Base de Datos\n",
       "2       Rosa    18         8     V           Algoritmos\n",
       "3       Jean    18        18    IV                Tesis\n",
       "4    Lourdes    20        10    IX    Proyecto de Tesis\n",
       "5      Mario    18        17     V         Programación"
      ],
      "text/html": [
       "<div>\n",
       "<style scoped>\n",
       "    .dataframe tbody tr th:only-of-type {\n",
       "        vertical-align: middle;\n",
       "    }\n",
       "\n",
       "    .dataframe tbody tr th {\n",
       "        vertical-align: top;\n",
       "    }\n",
       "\n",
       "    .dataframe thead th {\n",
       "        text-align: right;\n",
       "    }\n",
       "</style>\n",
       "<table border=\"1\" class=\"dataframe\">\n",
       "  <thead>\n",
       "    <tr style=\"text-align: right;\">\n",
       "      <th></th>\n",
       "      <th>Estudiante</th>\n",
       "      <th>Edad</th>\n",
       "      <th>Promedio</th>\n",
       "      <th>Ciclo</th>\n",
       "      <th>Curso</th>\n",
       "    </tr>\n",
       "  </thead>\n",
       "  <tbody>\n",
       "    <tr>\n",
       "      <th>0</th>\n",
       "      <td>Juan</td>\n",
       "      <td>19</td>\n",
       "      <td>15</td>\n",
       "      <td>V</td>\n",
       "      <td>Ingenieria de Datos</td>\n",
       "    </tr>\n",
       "    <tr>\n",
       "      <th>1</th>\n",
       "      <td>Carlos</td>\n",
       "      <td>20</td>\n",
       "      <td>12</td>\n",
       "      <td>VI</td>\n",
       "      <td>Base de Datos</td>\n",
       "    </tr>\n",
       "    <tr>\n",
       "      <th>2</th>\n",
       "      <td>Rosa</td>\n",
       "      <td>18</td>\n",
       "      <td>8</td>\n",
       "      <td>V</td>\n",
       "      <td>Algoritmos</td>\n",
       "    </tr>\n",
       "    <tr>\n",
       "      <th>3</th>\n",
       "      <td>Jean</td>\n",
       "      <td>18</td>\n",
       "      <td>18</td>\n",
       "      <td>IV</td>\n",
       "      <td>Tesis</td>\n",
       "    </tr>\n",
       "    <tr>\n",
       "      <th>4</th>\n",
       "      <td>Lourdes</td>\n",
       "      <td>20</td>\n",
       "      <td>10</td>\n",
       "      <td>IX</td>\n",
       "      <td>Proyecto de Tesis</td>\n",
       "    </tr>\n",
       "    <tr>\n",
       "      <th>5</th>\n",
       "      <td>Mario</td>\n",
       "      <td>18</td>\n",
       "      <td>17</td>\n",
       "      <td>V</td>\n",
       "      <td>Programación</td>\n",
       "    </tr>\n",
       "  </tbody>\n",
       "</table>\n",
       "</div>"
      ]
     },
     "execution_count": 20,
     "metadata": {},
     "output_type": "execute_result"
    }
   ],
   "execution_count": 20
  },
  {
   "metadata": {},
   "cell_type": "markdown",
   "source": "#### Recuperar la columna promedio y asignala a una variable \"n\".",
   "id": "36980063332d4748"
  },
  {
   "metadata": {
    "ExecuteTime": {
     "end_time": "2024-06-20T17:52:08.443695Z",
     "start_time": "2024-06-20T17:52:08.434433Z"
    }
   },
   "cell_type": "code",
   "source": [
    "n = DF2[['Promedio']]\n",
    "n"
   ],
   "id": "6298d601715edcdd",
   "outputs": [
    {
     "data": {
      "text/plain": [
       "   Promedio\n",
       "0        15\n",
       "1        12\n",
       "2         8\n",
       "3        18\n",
       "4        10\n",
       "5        17"
      ],
      "text/html": [
       "<div>\n",
       "<style scoped>\n",
       "    .dataframe tbody tr th:only-of-type {\n",
       "        vertical-align: middle;\n",
       "    }\n",
       "\n",
       "    .dataframe tbody tr th {\n",
       "        vertical-align: top;\n",
       "    }\n",
       "\n",
       "    .dataframe thead th {\n",
       "        text-align: right;\n",
       "    }\n",
       "</style>\n",
       "<table border=\"1\" class=\"dataframe\">\n",
       "  <thead>\n",
       "    <tr style=\"text-align: right;\">\n",
       "      <th></th>\n",
       "      <th>Promedio</th>\n",
       "    </tr>\n",
       "  </thead>\n",
       "  <tbody>\n",
       "    <tr>\n",
       "      <th>0</th>\n",
       "      <td>15</td>\n",
       "    </tr>\n",
       "    <tr>\n",
       "      <th>1</th>\n",
       "      <td>12</td>\n",
       "    </tr>\n",
       "    <tr>\n",
       "      <th>2</th>\n",
       "      <td>8</td>\n",
       "    </tr>\n",
       "    <tr>\n",
       "      <th>3</th>\n",
       "      <td>18</td>\n",
       "    </tr>\n",
       "    <tr>\n",
       "      <th>4</th>\n",
       "      <td>10</td>\n",
       "    </tr>\n",
       "    <tr>\n",
       "      <th>5</th>\n",
       "      <td>17</td>\n",
       "    </tr>\n",
       "  </tbody>\n",
       "</table>\n",
       "</div>"
      ]
     },
     "execution_count": 21,
     "metadata": {},
     "output_type": "execute_result"
    }
   ],
   "execution_count": 21
  },
  {
   "metadata": {},
   "cell_type": "markdown",
   "source": "#### Recuperar las columnas Curso y Ciclo y asignarlas a una variable \"c\".",
   "id": "7c3fe4116de29d6d"
  },
  {
   "metadata": {
    "ExecuteTime": {
     "end_time": "2024-06-20T17:52:38.198775Z",
     "start_time": "2024-06-20T17:52:38.189934Z"
    }
   },
   "cell_type": "code",
   "source": [
    "c = DF2[['Curso', 'Ciclo']]\n",
    "c"
   ],
   "id": "bf4982cab892f8e4",
   "outputs": [
    {
     "data": {
      "text/plain": [
       "                 Curso Ciclo\n",
       "0  Ingenieria de Datos     V\n",
       "1        Base de Datos    VI\n",
       "2           Algoritmos     V\n",
       "3                Tesis    IV\n",
       "4    Proyecto de Tesis    IX\n",
       "5         Programación     V"
      ],
      "text/html": [
       "<div>\n",
       "<style scoped>\n",
       "    .dataframe tbody tr th:only-of-type {\n",
       "        vertical-align: middle;\n",
       "    }\n",
       "\n",
       "    .dataframe tbody tr th {\n",
       "        vertical-align: top;\n",
       "    }\n",
       "\n",
       "    .dataframe thead th {\n",
       "        text-align: right;\n",
       "    }\n",
       "</style>\n",
       "<table border=\"1\" class=\"dataframe\">\n",
       "  <thead>\n",
       "    <tr style=\"text-align: right;\">\n",
       "      <th></th>\n",
       "      <th>Curso</th>\n",
       "      <th>Ciclo</th>\n",
       "    </tr>\n",
       "  </thead>\n",
       "  <tbody>\n",
       "    <tr>\n",
       "      <th>0</th>\n",
       "      <td>Ingenieria de Datos</td>\n",
       "      <td>V</td>\n",
       "    </tr>\n",
       "    <tr>\n",
       "      <th>1</th>\n",
       "      <td>Base de Datos</td>\n",
       "      <td>VI</td>\n",
       "    </tr>\n",
       "    <tr>\n",
       "      <th>2</th>\n",
       "      <td>Algoritmos</td>\n",
       "      <td>V</td>\n",
       "    </tr>\n",
       "    <tr>\n",
       "      <th>3</th>\n",
       "      <td>Tesis</td>\n",
       "      <td>IV</td>\n",
       "    </tr>\n",
       "    <tr>\n",
       "      <th>4</th>\n",
       "      <td>Proyecto de Tesis</td>\n",
       "      <td>IX</td>\n",
       "    </tr>\n",
       "    <tr>\n",
       "      <th>5</th>\n",
       "      <td>Programación</td>\n",
       "      <td>V</td>\n",
       "    </tr>\n",
       "  </tbody>\n",
       "</table>\n",
       "</div>"
      ]
     },
     "execution_count": 22,
     "metadata": {},
     "output_type": "execute_result"
    }
   ],
   "execution_count": 22
  },
  {
   "metadata": {},
   "cell_type": "markdown",
   "source": "#### Configure índices.",
   "id": "c30b41fcc495b104"
  },
  {
   "metadata": {
    "ExecuteTime": {
     "end_time": "2024-06-20T17:54:11.309079Z",
     "start_time": "2024-06-20T17:54:11.298901Z"
    }
   },
   "cell_type": "code",
   "source": [
    "dfi2 = DF2.set_index('Estudiante')\n",
    "dfi2"
   ],
   "id": "4160189f91d98b94",
   "outputs": [
    {
     "data": {
      "text/plain": [
       "            Edad  Promedio Ciclo                Curso\n",
       "Estudiante                                           \n",
       "Juan          19        15     V  Ingenieria de Datos\n",
       "Carlos        20        12    VI        Base de Datos\n",
       "Rosa          18         8     V           Algoritmos\n",
       "Jean          18        18    IV                Tesis\n",
       "Lourdes       20        10    IX    Proyecto de Tesis\n",
       "Mario         18        17     V         Programación"
      ],
      "text/html": [
       "<div>\n",
       "<style scoped>\n",
       "    .dataframe tbody tr th:only-of-type {\n",
       "        vertical-align: middle;\n",
       "    }\n",
       "\n",
       "    .dataframe tbody tr th {\n",
       "        vertical-align: top;\n",
       "    }\n",
       "\n",
       "    .dataframe thead th {\n",
       "        text-align: right;\n",
       "    }\n",
       "</style>\n",
       "<table border=\"1\" class=\"dataframe\">\n",
       "  <thead>\n",
       "    <tr style=\"text-align: right;\">\n",
       "      <th></th>\n",
       "      <th>Edad</th>\n",
       "      <th>Promedio</th>\n",
       "      <th>Ciclo</th>\n",
       "      <th>Curso</th>\n",
       "    </tr>\n",
       "    <tr>\n",
       "      <th>Estudiante</th>\n",
       "      <th></th>\n",
       "      <th></th>\n",
       "      <th></th>\n",
       "      <th></th>\n",
       "    </tr>\n",
       "  </thead>\n",
       "  <tbody>\n",
       "    <tr>\n",
       "      <th>Juan</th>\n",
       "      <td>19</td>\n",
       "      <td>15</td>\n",
       "      <td>V</td>\n",
       "      <td>Ingenieria de Datos</td>\n",
       "    </tr>\n",
       "    <tr>\n",
       "      <th>Carlos</th>\n",
       "      <td>20</td>\n",
       "      <td>12</td>\n",
       "      <td>VI</td>\n",
       "      <td>Base de Datos</td>\n",
       "    </tr>\n",
       "    <tr>\n",
       "      <th>Rosa</th>\n",
       "      <td>18</td>\n",
       "      <td>8</td>\n",
       "      <td>V</td>\n",
       "      <td>Algoritmos</td>\n",
       "    </tr>\n",
       "    <tr>\n",
       "      <th>Jean</th>\n",
       "      <td>18</td>\n",
       "      <td>18</td>\n",
       "      <td>IV</td>\n",
       "      <td>Tesis</td>\n",
       "    </tr>\n",
       "    <tr>\n",
       "      <th>Lourdes</th>\n",
       "      <td>20</td>\n",
       "      <td>10</td>\n",
       "      <td>IX</td>\n",
       "      <td>Proyecto de Tesis</td>\n",
       "    </tr>\n",
       "    <tr>\n",
       "      <th>Mario</th>\n",
       "      <td>18</td>\n",
       "      <td>17</td>\n",
       "      <td>V</td>\n",
       "      <td>Programación</td>\n",
       "    </tr>\n",
       "  </tbody>\n",
       "</table>\n",
       "</div>"
      ]
     },
     "execution_count": 23,
     "metadata": {},
     "output_type": "execute_result"
    }
   ],
   "execution_count": 23
  },
  {
   "metadata": {},
   "cell_type": "markdown",
   "source": "#### Ejecute Segmentación de DataFrame",
   "id": "5fec74b195b2adf0"
  },
  {
   "metadata": {
    "ExecuteTime": {
     "end_time": "2024-06-20T17:55:39.945679Z",
     "start_time": "2024-06-20T17:55:39.933101Z"
    }
   },
   "cell_type": "code",
   "source": "DF2 [1:4]",
   "id": "ddbd0f3ae31e6d5a",
   "outputs": [
    {
     "data": {
      "text/plain": [
       "  Estudiante  Edad  Promedio Ciclo          Curso\n",
       "1     Carlos    20        12    VI  Base de Datos\n",
       "2       Rosa    18         8     V     Algoritmos\n",
       "3       Jean    18        18    IV          Tesis"
      ],
      "text/html": [
       "<div>\n",
       "<style scoped>\n",
       "    .dataframe tbody tr th:only-of-type {\n",
       "        vertical-align: middle;\n",
       "    }\n",
       "\n",
       "    .dataframe tbody tr th {\n",
       "        vertical-align: top;\n",
       "    }\n",
       "\n",
       "    .dataframe thead th {\n",
       "        text-align: right;\n",
       "    }\n",
       "</style>\n",
       "<table border=\"1\" class=\"dataframe\">\n",
       "  <thead>\n",
       "    <tr style=\"text-align: right;\">\n",
       "      <th></th>\n",
       "      <th>Estudiante</th>\n",
       "      <th>Edad</th>\n",
       "      <th>Promedio</th>\n",
       "      <th>Ciclo</th>\n",
       "      <th>Curso</th>\n",
       "    </tr>\n",
       "  </thead>\n",
       "  <tbody>\n",
       "    <tr>\n",
       "      <th>1</th>\n",
       "      <td>Carlos</td>\n",
       "      <td>20</td>\n",
       "      <td>12</td>\n",
       "      <td>VI</td>\n",
       "      <td>Base de Datos</td>\n",
       "    </tr>\n",
       "    <tr>\n",
       "      <th>2</th>\n",
       "      <td>Rosa</td>\n",
       "      <td>18</td>\n",
       "      <td>8</td>\n",
       "      <td>V</td>\n",
       "      <td>Algoritmos</td>\n",
       "    </tr>\n",
       "    <tr>\n",
       "      <th>3</th>\n",
       "      <td>Jean</td>\n",
       "      <td>18</td>\n",
       "      <td>18</td>\n",
       "      <td>IV</td>\n",
       "      <td>Tesis</td>\n",
       "    </tr>\n",
       "  </tbody>\n",
       "</table>\n",
       "</div>"
      ]
     },
     "execution_count": 28,
     "metadata": {},
     "output_type": "execute_result"
    }
   ],
   "execution_count": 28
  }
 ],
 "metadata": {
  "kernelspec": {
   "display_name": "Python 3",
   "language": "python",
   "name": "python3"
  },
  "language_info": {
   "codemirror_mode": {
    "name": "ipython",
    "version": 2
   },
   "file_extension": ".py",
   "mimetype": "text/x-python",
   "name": "python",
   "nbconvert_exporter": "python",
   "pygments_lexer": "ipython2",
   "version": "2.7.6"
  }
 },
 "nbformat": 4,
 "nbformat_minor": 5
}
