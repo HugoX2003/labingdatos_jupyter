{
 "cells": [
  {
   "metadata": {},
   "cell_type": "markdown",
   "source": "## Valores Nulos",
   "id": "8967f251ebcc722c"
  },
  {
   "metadata": {},
   "cell_type": "markdown",
   "source": "#### Método isNull() \n",
   "id": "122bc31ad3de48b9"
  },
  {
   "cell_type": "code",
   "execution_count": null,
   "id": "initial_id",
   "metadata": {
    "collapsed": true
   },
   "outputs": [],
   "source": "df.isnull()"
  },
  {
   "metadata": {},
   "cell_type": "markdown",
   "source": "#### Método isnull().sum() | Muestra el total de las columnas sin datos (nulos)\n",
   "id": "c9f00b2db3e7486a"
  },
  {
   "metadata": {},
   "cell_type": "code",
   "outputs": [],
   "execution_count": null,
   "source": "df.isnull().sum()",
   "id": "9ef5370b4db86577"
  },
  {
   "metadata": {},
   "cell_type": "markdown",
   "source": "#### Método dropna() | Elimina cualquier fila con al menos un valor nulo, pero devolverá un nuevo DataFrame sin alterar el original",
   "id": "361e6d2ac90b02b9"
  },
  {
   "metadata": {},
   "cell_type": "code",
   "outputs": [],
   "execution_count": null,
   "source": "df2 = df.dropna()",
   "id": "94ca841c998d5dc4"
  },
  {
   "metadata": {},
   "cell_type": "markdown",
   "source": "#### dropna(axis=1) | Elimina columnas con valores nulos",
   "id": "dfa2a5c9242d97e9"
  },
  {
   "metadata": {},
   "cell_type": "code",
   "outputs": [],
   "execution_count": null,
   "source": "df3 = df.dropna(axis=1)",
   "id": "f5c455f007030df0"
  },
  {
   "metadata": {},
   "cell_type": "markdown",
   "source": "#### Método fillna() | Reemplazar los valores nulos con datos (imputación)",
   "id": "19204ed353ffa2b5"
  },
  {
   "metadata": {},
   "cell_type": "code",
   "outputs": [],
   "execution_count": null,
   "source": [
    "# Extraemos los valores de las columnas en una variable\n",
    "vColumnaDistanciaCasa = df['DistanciaDesdeCasa']"
   ],
   "id": "16ed681cf726c95b"
  },
  {
   "metadata": {},
   "cell_type": "code",
   "outputs": [],
   "execution_count": null,
   "source": "vColumnaDistanciaCasa.head",
   "id": "fa8d85cb958c288f"
  },
  {
   "metadata": {},
   "cell_type": "code",
   "outputs": [],
   "execution_count": null,
   "source": [
    "# Imputaremos asignando la media, para ello calculamos la media\n",
    "ColumnaDistanciaCasaMedia = vColumnaDistanciaCasa.mean()\n",
    "ColumnaDistanciaCasaMedia"
   ],
   "id": "cadc6214a9d598b5"
  },
  {
   "metadata": {},
   "cell_type": "code",
   "outputs": [],
   "execution_count": null,
   "source": [
    "# Imputaremos asignando la media\n",
    "vColumnaDistanciaCasa.fillna(ColumnaDistanciaCasaMedia, inplace=True)"
   ],
   "id": "79afbbabd620d783"
  },
  {
   "metadata": {},
   "cell_type": "code",
   "outputs": [],
   "execution_count": null,
   "source": [
    "# Extraemos los valores de las columnas en una variable\n",
    "vcolumna = df['TiempoExtra']"
   ],
   "id": "19ed9199bb9a628b"
  },
  {
   "metadata": {},
   "cell_type": "code",
   "outputs": [],
   "execution_count": null,
   "source": "vcolumna.head()",
   "id": "71f9aadc9ec6c48a"
  },
  {
   "metadata": {},
   "cell_type": "code",
   "outputs": [],
   "execution_count": null,
   "source": [
    "# Asignamos valores a los datos vacios\n",
    "vcolumna.fillna(\"Yes\", inplace=True)"
   ],
   "id": "5e4368a53d227830"
  },
  {
   "metadata": {},
   "cell_type": "markdown",
   "source": "#### Método bfill() | Rellena los valores de Na/NaN utilizando el siguiente (hacia adelante) valor válido para rellenar el hueco\n",
   "id": "f41ba301368aed00"
  },
  {
   "metadata": {},
   "cell_type": "markdown",
   "source": "#### Método ffill() | Rellena los valores de Na/NaN utilizando el último (hacia atrás) valor válido para rellenar el hueco\n",
   "id": "36ef050c733e59ac"
  },
  {
   "metadata": {},
   "cell_type": "markdown",
   "source": "## Eliminar duplicados\n",
   "id": "3a94e801a48aa4c9"
  },
  {
   "metadata": {},
   "cell_type": "markdown",
   "source": "#### Método duplicated()\n",
   "id": "15754f94ed40dce1"
  },
  {
   "metadata": {},
   "cell_type": "markdown",
   "source": "Método drop_duplicates()",
   "id": "7c766b489753654d"
  }
 ],
 "metadata": {
  "kernelspec": {
   "display_name": "Python 3",
   "language": "python",
   "name": "python3"
  },
  "language_info": {
   "codemirror_mode": {
    "name": "ipython",
    "version": 2
   },
   "file_extension": ".py",
   "mimetype": "text/x-python",
   "name": "python",
   "nbconvert_exporter": "python",
   "pygments_lexer": "ipython2",
   "version": "2.7.6"
  }
 },
 "nbformat": 4,
 "nbformat_minor": 5
}
