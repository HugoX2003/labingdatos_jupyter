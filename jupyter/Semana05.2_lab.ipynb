{
 "cells": [
  {
   "metadata": {},
   "cell_type": "markdown",
   "source": "# **Ing. Datos | Hugo Elias Márquez Diestra**",
   "id": "8a77807f92f26ee"
  },
  {
   "metadata": {
    "ExecuteTime": {
     "end_time": "2024-06-20T18:07:26.410204Z",
     "start_time": "2024-06-20T18:07:25.766346Z"
    }
   },
   "cell_type": "code",
   "source": [
    "# Iniciar siempre\n",
    "import pandas as pd"
   ],
   "id": "fbc121e30a2defb3",
   "outputs": [],
   "execution_count": 1
  },
  {
   "metadata": {
    "ExecuteTime": {
     "end_time": "2024-06-20T18:14:57.310318Z",
     "start_time": "2024-06-20T18:14:57.297015Z"
    }
   },
   "cell_type": "code",
   "source": [
    "# Iniciar siempre x2\n",
    "# Definimos el diccionario d2\n",
    "d2 = { 'Estudiante': ['Juan', 'Carlos', 'Rosa', 'Jean', 'Lourdes', 'Mario'],\n",
    "       'Edad':       [19,20,18,18,20,18],\n",
    "       'Promedio':   [15,12,8,18,10,17],\n",
    "       'Ciclo':      ['V', 'VI', 'V', 'IV', 'IX', 'V'],\n",
    "       'Curso':      ['Ingenieria de Datos', 'Base de Datos', 'Algoritmos',              'Tesis', 'Proyecto de Tesis', 'Programación']\n",
    "    }\n",
    "\n",
    "# Convertimos el Diccionario a un DataFrame\n",
    "DF2 = pd.DataFrame(d2)\n",
    "\n",
    "# Mostramos los resultados\n",
    "DF2"
   ],
   "id": "bd1b29d58d5d3608",
   "outputs": [
    {
     "data": {
      "text/plain": [
       "  Estudiante  Edad  Promedio Ciclo                Curso\n",
       "0       Juan    19        15     V  Ingenieria de Datos\n",
       "1     Carlos    20        12    VI        Base de Datos\n",
       "2       Rosa    18         8     V           Algoritmos\n",
       "3       Jean    18        18    IV                Tesis\n",
       "4    Lourdes    20        10    IX    Proyecto de Tesis\n",
       "5      Mario    18        17     V         Programación"
      ],
      "text/html": [
       "<div>\n",
       "<style scoped>\n",
       "    .dataframe tbody tr th:only-of-type {\n",
       "        vertical-align: middle;\n",
       "    }\n",
       "\n",
       "    .dataframe tbody tr th {\n",
       "        vertical-align: top;\n",
       "    }\n",
       "\n",
       "    .dataframe thead th {\n",
       "        text-align: right;\n",
       "    }\n",
       "</style>\n",
       "<table border=\"1\" class=\"dataframe\">\n",
       "  <thead>\n",
       "    <tr style=\"text-align: right;\">\n",
       "      <th></th>\n",
       "      <th>Estudiante</th>\n",
       "      <th>Edad</th>\n",
       "      <th>Promedio</th>\n",
       "      <th>Ciclo</th>\n",
       "      <th>Curso</th>\n",
       "    </tr>\n",
       "  </thead>\n",
       "  <tbody>\n",
       "    <tr>\n",
       "      <th>0</th>\n",
       "      <td>Juan</td>\n",
       "      <td>19</td>\n",
       "      <td>15</td>\n",
       "      <td>V</td>\n",
       "      <td>Ingenieria de Datos</td>\n",
       "    </tr>\n",
       "    <tr>\n",
       "      <th>1</th>\n",
       "      <td>Carlos</td>\n",
       "      <td>20</td>\n",
       "      <td>12</td>\n",
       "      <td>VI</td>\n",
       "      <td>Base de Datos</td>\n",
       "    </tr>\n",
       "    <tr>\n",
       "      <th>2</th>\n",
       "      <td>Rosa</td>\n",
       "      <td>18</td>\n",
       "      <td>8</td>\n",
       "      <td>V</td>\n",
       "      <td>Algoritmos</td>\n",
       "    </tr>\n",
       "    <tr>\n",
       "      <th>3</th>\n",
       "      <td>Jean</td>\n",
       "      <td>18</td>\n",
       "      <td>18</td>\n",
       "      <td>IV</td>\n",
       "      <td>Tesis</td>\n",
       "    </tr>\n",
       "    <tr>\n",
       "      <th>4</th>\n",
       "      <td>Lourdes</td>\n",
       "      <td>20</td>\n",
       "      <td>10</td>\n",
       "      <td>IX</td>\n",
       "      <td>Proyecto de Tesis</td>\n",
       "    </tr>\n",
       "    <tr>\n",
       "      <th>5</th>\n",
       "      <td>Mario</td>\n",
       "      <td>18</td>\n",
       "      <td>17</td>\n",
       "      <td>V</td>\n",
       "      <td>Programación</td>\n",
       "    </tr>\n",
       "  </tbody>\n",
       "</table>\n",
       "</div>"
      ]
     },
     "execution_count": 8,
     "metadata": {},
     "output_type": "execute_result"
    }
   ],
   "execution_count": 8
  },
  {
   "metadata": {},
   "cell_type": "markdown",
   "source": "#### Método head() | Devuelve las primeras filas del DataFrame",
   "id": "bcf6fdf493aa9b58"
  },
  {
   "metadata": {
    "ExecuteTime": {
     "end_time": "2024-06-20T18:15:23.086294Z",
     "start_time": "2024-06-20T18:15:23.076410Z"
    }
   },
   "cell_type": "code",
   "source": "DF2.head()",
   "id": "ea8fad81f03d7393",
   "outputs": [
    {
     "data": {
      "text/plain": [
       "  Estudiante  Edad  Promedio Ciclo                Curso\n",
       "0       Juan    19        15     V  Ingenieria de Datos\n",
       "1     Carlos    20        12    VI        Base de Datos\n",
       "2       Rosa    18         8     V           Algoritmos\n",
       "3       Jean    18        18    IV                Tesis\n",
       "4    Lourdes    20        10    IX    Proyecto de Tesis"
      ],
      "text/html": [
       "<div>\n",
       "<style scoped>\n",
       "    .dataframe tbody tr th:only-of-type {\n",
       "        vertical-align: middle;\n",
       "    }\n",
       "\n",
       "    .dataframe tbody tr th {\n",
       "        vertical-align: top;\n",
       "    }\n",
       "\n",
       "    .dataframe thead th {\n",
       "        text-align: right;\n",
       "    }\n",
       "</style>\n",
       "<table border=\"1\" class=\"dataframe\">\n",
       "  <thead>\n",
       "    <tr style=\"text-align: right;\">\n",
       "      <th></th>\n",
       "      <th>Estudiante</th>\n",
       "      <th>Edad</th>\n",
       "      <th>Promedio</th>\n",
       "      <th>Ciclo</th>\n",
       "      <th>Curso</th>\n",
       "    </tr>\n",
       "  </thead>\n",
       "  <tbody>\n",
       "    <tr>\n",
       "      <th>0</th>\n",
       "      <td>Juan</td>\n",
       "      <td>19</td>\n",
       "      <td>15</td>\n",
       "      <td>V</td>\n",
       "      <td>Ingenieria de Datos</td>\n",
       "    </tr>\n",
       "    <tr>\n",
       "      <th>1</th>\n",
       "      <td>Carlos</td>\n",
       "      <td>20</td>\n",
       "      <td>12</td>\n",
       "      <td>VI</td>\n",
       "      <td>Base de Datos</td>\n",
       "    </tr>\n",
       "    <tr>\n",
       "      <th>2</th>\n",
       "      <td>Rosa</td>\n",
       "      <td>18</td>\n",
       "      <td>8</td>\n",
       "      <td>V</td>\n",
       "      <td>Algoritmos</td>\n",
       "    </tr>\n",
       "    <tr>\n",
       "      <th>3</th>\n",
       "      <td>Jean</td>\n",
       "      <td>18</td>\n",
       "      <td>18</td>\n",
       "      <td>IV</td>\n",
       "      <td>Tesis</td>\n",
       "    </tr>\n",
       "    <tr>\n",
       "      <th>4</th>\n",
       "      <td>Lourdes</td>\n",
       "      <td>20</td>\n",
       "      <td>10</td>\n",
       "      <td>IX</td>\n",
       "      <td>Proyecto de Tesis</td>\n",
       "    </tr>\n",
       "  </tbody>\n",
       "</table>\n",
       "</div>"
      ]
     },
     "execution_count": 9,
     "metadata": {},
     "output_type": "execute_result"
    }
   ],
   "execution_count": 9
  },
  {
   "metadata": {},
   "cell_type": "markdown",
   "source": "#### Método tail() | Devuelve las ultimas filas del DataFrame",
   "id": "92129f2431a3850b"
  },
  {
   "metadata": {
    "ExecuteTime": {
     "end_time": "2024-06-20T18:15:36.046711Z",
     "start_time": "2024-06-20T18:15:36.037313Z"
    }
   },
   "cell_type": "code",
   "source": "DF2.tail(3)",
   "id": "530195d899e12abb",
   "outputs": [
    {
     "data": {
      "text/plain": [
       "  Estudiante  Edad  Promedio Ciclo              Curso\n",
       "3       Jean    18        18    IV              Tesis\n",
       "4    Lourdes    20        10    IX  Proyecto de Tesis\n",
       "5      Mario    18        17     V       Programación"
      ],
      "text/html": [
       "<div>\n",
       "<style scoped>\n",
       "    .dataframe tbody tr th:only-of-type {\n",
       "        vertical-align: middle;\n",
       "    }\n",
       "\n",
       "    .dataframe tbody tr th {\n",
       "        vertical-align: top;\n",
       "    }\n",
       "\n",
       "    .dataframe thead th {\n",
       "        text-align: right;\n",
       "    }\n",
       "</style>\n",
       "<table border=\"1\" class=\"dataframe\">\n",
       "  <thead>\n",
       "    <tr style=\"text-align: right;\">\n",
       "      <th></th>\n",
       "      <th>Estudiante</th>\n",
       "      <th>Edad</th>\n",
       "      <th>Promedio</th>\n",
       "      <th>Ciclo</th>\n",
       "      <th>Curso</th>\n",
       "    </tr>\n",
       "  </thead>\n",
       "  <tbody>\n",
       "    <tr>\n",
       "      <th>3</th>\n",
       "      <td>Jean</td>\n",
       "      <td>18</td>\n",
       "      <td>18</td>\n",
       "      <td>IV</td>\n",
       "      <td>Tesis</td>\n",
       "    </tr>\n",
       "    <tr>\n",
       "      <th>4</th>\n",
       "      <td>Lourdes</td>\n",
       "      <td>20</td>\n",
       "      <td>10</td>\n",
       "      <td>IX</td>\n",
       "      <td>Proyecto de Tesis</td>\n",
       "    </tr>\n",
       "    <tr>\n",
       "      <th>5</th>\n",
       "      <td>Mario</td>\n",
       "      <td>18</td>\n",
       "      <td>17</td>\n",
       "      <td>V</td>\n",
       "      <td>Programación</td>\n",
       "    </tr>\n",
       "  </tbody>\n",
       "</table>\n",
       "</div>"
      ]
     },
     "execution_count": 10,
     "metadata": {},
     "output_type": "execute_result"
    }
   ],
   "execution_count": 10
  },
  {
   "metadata": {},
   "cell_type": "markdown",
   "source": "#### Método sample() | Muestra valores aleatorios del DataFrame",
   "id": "e94aba2ba23a6856"
  },
  {
   "metadata": {
    "ExecuteTime": {
     "end_time": "2024-06-20T18:15:45.014236Z",
     "start_time": "2024-06-20T18:15:45.003208Z"
    }
   },
   "cell_type": "code",
   "source": "DF2.sample()",
   "id": "39c37c753ce777c8",
   "outputs": [
    {
     "data": {
      "text/plain": [
       "  Estudiante  Edad  Promedio Ciclo       Curso\n",
       "2       Rosa    18         8     V  Algoritmos"
      ],
      "text/html": [
       "<div>\n",
       "<style scoped>\n",
       "    .dataframe tbody tr th:only-of-type {\n",
       "        vertical-align: middle;\n",
       "    }\n",
       "\n",
       "    .dataframe tbody tr th {\n",
       "        vertical-align: top;\n",
       "    }\n",
       "\n",
       "    .dataframe thead th {\n",
       "        text-align: right;\n",
       "    }\n",
       "</style>\n",
       "<table border=\"1\" class=\"dataframe\">\n",
       "  <thead>\n",
       "    <tr style=\"text-align: right;\">\n",
       "      <th></th>\n",
       "      <th>Estudiante</th>\n",
       "      <th>Edad</th>\n",
       "      <th>Promedio</th>\n",
       "      <th>Ciclo</th>\n",
       "      <th>Curso</th>\n",
       "    </tr>\n",
       "  </thead>\n",
       "  <tbody>\n",
       "    <tr>\n",
       "      <th>2</th>\n",
       "      <td>Rosa</td>\n",
       "      <td>18</td>\n",
       "      <td>8</td>\n",
       "      <td>V</td>\n",
       "      <td>Algoritmos</td>\n",
       "    </tr>\n",
       "  </tbody>\n",
       "</table>\n",
       "</div>"
      ]
     },
     "execution_count": 11,
     "metadata": {},
     "output_type": "execute_result"
    }
   ],
   "execution_count": 11
  },
  {
   "metadata": {
    "ExecuteTime": {
     "end_time": "2024-06-20T18:16:04.432163Z",
     "start_time": "2024-06-20T18:16:04.422285Z"
    }
   },
   "cell_type": "code",
   "source": "DF2.sample(5)",
   "id": "7f7bd5f6fad1f0b4",
   "outputs": [
    {
     "data": {
      "text/plain": [
       "  Estudiante  Edad  Promedio Ciclo                Curso\n",
       "5      Mario    18        17     V         Programación\n",
       "4    Lourdes    20        10    IX    Proyecto de Tesis\n",
       "3       Jean    18        18    IV                Tesis\n",
       "0       Juan    19        15     V  Ingenieria de Datos\n",
       "2       Rosa    18         8     V           Algoritmos"
      ],
      "text/html": [
       "<div>\n",
       "<style scoped>\n",
       "    .dataframe tbody tr th:only-of-type {\n",
       "        vertical-align: middle;\n",
       "    }\n",
       "\n",
       "    .dataframe tbody tr th {\n",
       "        vertical-align: top;\n",
       "    }\n",
       "\n",
       "    .dataframe thead th {\n",
       "        text-align: right;\n",
       "    }\n",
       "</style>\n",
       "<table border=\"1\" class=\"dataframe\">\n",
       "  <thead>\n",
       "    <tr style=\"text-align: right;\">\n",
       "      <th></th>\n",
       "      <th>Estudiante</th>\n",
       "      <th>Edad</th>\n",
       "      <th>Promedio</th>\n",
       "      <th>Ciclo</th>\n",
       "      <th>Curso</th>\n",
       "    </tr>\n",
       "  </thead>\n",
       "  <tbody>\n",
       "    <tr>\n",
       "      <th>5</th>\n",
       "      <td>Mario</td>\n",
       "      <td>18</td>\n",
       "      <td>17</td>\n",
       "      <td>V</td>\n",
       "      <td>Programación</td>\n",
       "    </tr>\n",
       "    <tr>\n",
       "      <th>4</th>\n",
       "      <td>Lourdes</td>\n",
       "      <td>20</td>\n",
       "      <td>10</td>\n",
       "      <td>IX</td>\n",
       "      <td>Proyecto de Tesis</td>\n",
       "    </tr>\n",
       "    <tr>\n",
       "      <th>3</th>\n",
       "      <td>Jean</td>\n",
       "      <td>18</td>\n",
       "      <td>18</td>\n",
       "      <td>IV</td>\n",
       "      <td>Tesis</td>\n",
       "    </tr>\n",
       "    <tr>\n",
       "      <th>0</th>\n",
       "      <td>Juan</td>\n",
       "      <td>19</td>\n",
       "      <td>15</td>\n",
       "      <td>V</td>\n",
       "      <td>Ingenieria de Datos</td>\n",
       "    </tr>\n",
       "    <tr>\n",
       "      <th>2</th>\n",
       "      <td>Rosa</td>\n",
       "      <td>18</td>\n",
       "      <td>8</td>\n",
       "      <td>V</td>\n",
       "      <td>Algoritmos</td>\n",
       "    </tr>\n",
       "  </tbody>\n",
       "</table>\n",
       "</div>"
      ]
     },
     "execution_count": 13,
     "metadata": {},
     "output_type": "execute_result"
    }
   ],
   "execution_count": 13
  },
  {
   "metadata": {},
   "cell_type": "markdown",
   "source": "#### Método info() | Muestra los nombres de las columnas, los tipo de datos y si tiene valores faltantes",
   "id": "66acc3ce4a301d1d"
  },
  {
   "metadata": {
    "ExecuteTime": {
     "end_time": "2024-06-20T18:16:18.147872Z",
     "start_time": "2024-06-20T18:16:18.135436Z"
    }
   },
   "cell_type": "code",
   "source": "DF2.info()",
   "id": "5adec72cea42e677",
   "outputs": [
    {
     "name": "stdout",
     "output_type": "stream",
     "text": [
      "<class 'pandas.core.frame.DataFrame'>\n",
      "RangeIndex: 6 entries, 0 to 5\n",
      "Data columns (total 5 columns):\n",
      " #   Column      Non-Null Count  Dtype \n",
      "---  ------      --------------  ----- \n",
      " 0   Estudiante  6 non-null      object\n",
      " 1   Edad        6 non-null      int64 \n",
      " 2   Promedio    6 non-null      int64 \n",
      " 3   Ciclo       6 non-null      object\n",
      " 4   Curso       6 non-null      object\n",
      "dtypes: int64(2), object(3)\n",
      "memory usage: 372.0+ bytes\n"
     ]
    }
   ],
   "execution_count": 14
  },
  {
   "metadata": {},
   "cell_type": "markdown",
   "source": "#### Método describe() | Calcula algunas estadisticas de resumen para las columnas numéricas, como la media, el valor máximo, el mínimo",
   "id": "8dcfa199e1b710d7"
  },
  {
   "metadata": {
    "ExecuteTime": {
     "end_time": "2024-06-20T18:16:27.149942Z",
     "start_time": "2024-06-20T18:16:27.136949Z"
    }
   },
   "cell_type": "code",
   "source": "DF2.describe()",
   "id": "7a315962e13eac68",
   "outputs": [
    {
     "data": {
      "text/plain": [
       "            Edad   Promedio\n",
       "count   6.000000   6.000000\n",
       "mean   18.833333  13.333333\n",
       "std     0.983192   3.983298\n",
       "min    18.000000   8.000000\n",
       "25%    18.000000  10.500000\n",
       "50%    18.500000  13.500000\n",
       "75%    19.750000  16.500000\n",
       "max    20.000000  18.000000"
      ],
      "text/html": [
       "<div>\n",
       "<style scoped>\n",
       "    .dataframe tbody tr th:only-of-type {\n",
       "        vertical-align: middle;\n",
       "    }\n",
       "\n",
       "    .dataframe tbody tr th {\n",
       "        vertical-align: top;\n",
       "    }\n",
       "\n",
       "    .dataframe thead th {\n",
       "        text-align: right;\n",
       "    }\n",
       "</style>\n",
       "<table border=\"1\" class=\"dataframe\">\n",
       "  <thead>\n",
       "    <tr style=\"text-align: right;\">\n",
       "      <th></th>\n",
       "      <th>Edad</th>\n",
       "      <th>Promedio</th>\n",
       "    </tr>\n",
       "  </thead>\n",
       "  <tbody>\n",
       "    <tr>\n",
       "      <th>count</th>\n",
       "      <td>6.000000</td>\n",
       "      <td>6.000000</td>\n",
       "    </tr>\n",
       "    <tr>\n",
       "      <th>mean</th>\n",
       "      <td>18.833333</td>\n",
       "      <td>13.333333</td>\n",
       "    </tr>\n",
       "    <tr>\n",
       "      <th>std</th>\n",
       "      <td>0.983192</td>\n",
       "      <td>3.983298</td>\n",
       "    </tr>\n",
       "    <tr>\n",
       "      <th>min</th>\n",
       "      <td>18.000000</td>\n",
       "      <td>8.000000</td>\n",
       "    </tr>\n",
       "    <tr>\n",
       "      <th>25%</th>\n",
       "      <td>18.000000</td>\n",
       "      <td>10.500000</td>\n",
       "    </tr>\n",
       "    <tr>\n",
       "      <th>50%</th>\n",
       "      <td>18.500000</td>\n",
       "      <td>13.500000</td>\n",
       "    </tr>\n",
       "    <tr>\n",
       "      <th>75%</th>\n",
       "      <td>19.750000</td>\n",
       "      <td>16.500000</td>\n",
       "    </tr>\n",
       "    <tr>\n",
       "      <th>max</th>\n",
       "      <td>20.000000</td>\n",
       "      <td>18.000000</td>\n",
       "    </tr>\n",
       "  </tbody>\n",
       "</table>\n",
       "</div>"
      ]
     },
     "execution_count": 15,
     "metadata": {},
     "output_type": "execute_result"
    }
   ],
   "execution_count": 15
  },
  {
   "metadata": {},
   "cell_type": "markdown",
   "source": "#### Atributo shape | Atributo que devuelve el número de filas y columnas",
   "id": "8ee9f689cc197a34"
  },
  {
   "metadata": {
    "ExecuteTime": {
     "end_time": "2024-06-20T18:16:36.613526Z",
     "start_time": "2024-06-20T18:16:36.607574Z"
    }
   },
   "cell_type": "code",
   "source": "DF2.shape",
   "id": "ff802a21f73b9952",
   "outputs": [
    {
     "data": {
      "text/plain": [
       "(6, 5)"
      ]
     },
     "execution_count": 16,
     "metadata": {},
     "output_type": "execute_result"
    }
   ],
   "execution_count": 16
  },
  {
   "metadata": {},
   "cell_type": "markdown",
   "source": "#### Atributo columns | Devuelve el nombre de las columnas",
   "id": "c71679f1baf550c5"
  },
  {
   "metadata": {
    "ExecuteTime": {
     "end_time": "2024-06-20T18:16:42.693330Z",
     "start_time": "2024-06-20T18:16:42.686755Z"
    }
   },
   "cell_type": "code",
   "source": "DF2.columns",
   "id": "89f5565b9b754bc5",
   "outputs": [
    {
     "data": {
      "text/plain": [
       "Index(['Estudiante', 'Edad', 'Promedio', 'Ciclo', 'Curso'], dtype='object')"
      ]
     },
     "execution_count": 17,
     "metadata": {},
     "output_type": "execute_result"
    }
   ],
   "execution_count": 17
  },
  {
   "metadata": {},
   "cell_type": "markdown",
   "source": "#### Atributo index | Devuelve el indice de las filas ya sea números o nombres de las filas",
   "id": "9cf6ce660c07aeef"
  },
  {
   "metadata": {
    "ExecuteTime": {
     "end_time": "2024-06-20T18:16:49.111469Z",
     "start_time": "2024-06-20T18:16:49.104581Z"
    }
   },
   "cell_type": "code",
   "source": "DF2.index",
   "id": "6e94fbd0728da740",
   "outputs": [
    {
     "data": {
      "text/plain": [
       "RangeIndex(start=0, stop=6, step=1)"
      ]
     },
     "execution_count": 18,
     "metadata": {},
     "output_type": "execute_result"
    }
   ],
   "execution_count": 18
  },
  {
   "metadata": {},
   "cell_type": "markdown",
   "source": "#### Atributo values | Devuelve una matriz bidimensional (Numpy 2D) de los valores",
   "id": "986eabb2d67d2cdb"
  },
  {
   "metadata": {
    "ExecuteTime": {
     "end_time": "2024-06-20T18:16:57.182915Z",
     "start_time": "2024-06-20T18:16:57.176118Z"
    }
   },
   "cell_type": "code",
   "source": "DF2.values",
   "id": "1cfa9575ab4c6c3d",
   "outputs": [
    {
     "data": {
      "text/plain": [
       "array([['Juan', 19, 15, 'V', 'Ingenieria de Datos'],\n",
       "       ['Carlos', 20, 12, 'VI', 'Base de Datos'],\n",
       "       ['Rosa', 18, 8, 'V', 'Algoritmos'],\n",
       "       ['Jean', 18, 18, 'IV', 'Tesis'],\n",
       "       ['Lourdes', 20, 10, 'IX', 'Proyecto de Tesis'],\n",
       "       ['Mario', 18, 17, 'V', 'Programación']], dtype=object)"
      ]
     },
     "execution_count": 19,
     "metadata": {},
     "output_type": "execute_result"
    }
   ],
   "execution_count": 19
  },
  {
   "metadata": {},
   "cell_type": "markdown",
   "source": "#### Método to_numpy | Se utiliza para convertir un DataFrame en un arreglo NumPy",
   "id": "a9889600a4ad9ea"
  },
  {
   "metadata": {
    "ExecuteTime": {
     "end_time": "2024-06-20T18:17:06.799606Z",
     "start_time": "2024-06-20T18:17:06.791565Z"
    }
   },
   "cell_type": "code",
   "source": "DF2.to_numpy",
   "id": "5298f35d3f32002",
   "outputs": [
    {
     "data": {
      "text/plain": [
       "<bound method DataFrame.to_numpy of   Estudiante  Edad  Promedio Ciclo                Curso\n",
       "0       Juan    19        15     V  Ingenieria de Datos\n",
       "1     Carlos    20        12    VI        Base de Datos\n",
       "2       Rosa    18         8     V           Algoritmos\n",
       "3       Jean    18        18    IV                Tesis\n",
       "4    Lourdes    20        10    IX    Proyecto de Tesis\n",
       "5      Mario    18        17     V         Programación>"
      ]
     },
     "execution_count": 20,
     "metadata": {},
     "output_type": "execute_result"
    }
   ],
   "execution_count": 20
  },
  {
   "metadata": {},
   "cell_type": "markdown",
   "source": "# Eliminar Filas y Columnas",
   "id": "9c435dcec945a33b"
  },
  {
   "metadata": {},
   "cell_type": "markdown",
   "source": "#### Método drop() | Elimina filas o columnas usando una etiqueta de índice o un nombre de columna.",
   "id": "453235baedd08d69"
  },
  {
   "metadata": {},
   "cell_type": "markdown",
   "source": "##### Eliminar filas por etiquetas de filas",
   "id": "e5ab2abb5d220b3b"
  },
  {
   "metadata": {
    "ExecuteTime": {
     "end_time": "2024-06-20T18:34:14.144671Z",
     "start_time": "2024-06-20T18:34:14.133766Z"
    }
   },
   "cell_type": "code",
   "source": [
    "# Definimos el diccionario d\n",
    "d = { 'Nombre':       ['Rosa', 'Juan', 'María', 'Pedro'],\n",
    "      'ID':           [1, 2, 3, 4],\n",
    "      'Departamento': ['Ventas', 'Logistica', 'Contabilidad', 'Sistemas'],\n",
    "      'Sueldo': [1500, 2000, 2500, 3000]\n",
    "    }\n",
    "\n",
    "# Convertimos el Diccionario a un DataFrame\n",
    "DF = pd.DataFrame(d)\n",
    "\n",
    "# Mostramos los resultados\n",
    "DF"
   ],
   "id": "9369e76be3121856",
   "outputs": [
    {
     "data": {
      "text/plain": [
       "  Nombre  ID  Departamento  Sueldo\n",
       "0   Rosa   1        Ventas    1500\n",
       "1   Juan   2     Logistica    2000\n",
       "2  María   3  Contabilidad    2500\n",
       "3  Pedro   4      Sistemas    3000"
      ],
      "text/html": [
       "<div>\n",
       "<style scoped>\n",
       "    .dataframe tbody tr th:only-of-type {\n",
       "        vertical-align: middle;\n",
       "    }\n",
       "\n",
       "    .dataframe tbody tr th {\n",
       "        vertical-align: top;\n",
       "    }\n",
       "\n",
       "    .dataframe thead th {\n",
       "        text-align: right;\n",
       "    }\n",
       "</style>\n",
       "<table border=\"1\" class=\"dataframe\">\n",
       "  <thead>\n",
       "    <tr style=\"text-align: right;\">\n",
       "      <th></th>\n",
       "      <th>Nombre</th>\n",
       "      <th>ID</th>\n",
       "      <th>Departamento</th>\n",
       "      <th>Sueldo</th>\n",
       "    </tr>\n",
       "  </thead>\n",
       "  <tbody>\n",
       "    <tr>\n",
       "      <th>0</th>\n",
       "      <td>Rosa</td>\n",
       "      <td>1</td>\n",
       "      <td>Ventas</td>\n",
       "      <td>1500</td>\n",
       "    </tr>\n",
       "    <tr>\n",
       "      <th>1</th>\n",
       "      <td>Juan</td>\n",
       "      <td>2</td>\n",
       "      <td>Logistica</td>\n",
       "      <td>2000</td>\n",
       "    </tr>\n",
       "    <tr>\n",
       "      <th>2</th>\n",
       "      <td>María</td>\n",
       "      <td>3</td>\n",
       "      <td>Contabilidad</td>\n",
       "      <td>2500</td>\n",
       "    </tr>\n",
       "    <tr>\n",
       "      <th>3</th>\n",
       "      <td>Pedro</td>\n",
       "      <td>4</td>\n",
       "      <td>Sistemas</td>\n",
       "      <td>3000</td>\n",
       "    </tr>\n",
       "  </tbody>\n",
       "</table>\n",
       "</div>"
      ]
     },
     "execution_count": 28,
     "metadata": {},
     "output_type": "execute_result"
    }
   ],
   "execution_count": 28
  },
  {
   "metadata": {
    "ExecuteTime": {
     "end_time": "2024-06-20T18:30:29.785060Z",
     "start_time": "2024-06-20T18:30:29.774237Z"
    }
   },
   "cell_type": "code",
   "source": [
    "dfi = DF.set_index('Nombre')\n",
    "dfi"
   ],
   "id": "6b70da204035d24e",
   "outputs": [
    {
     "data": {
      "text/plain": [
       "        ID  Departamento  Sueldo\n",
       "Nombre                          \n",
       "Rosa     1        Ventas    1500\n",
       "Juan     2     Logistica    2000\n",
       "María    3  Contabilidad    2500\n",
       "Pedro    4      Sistemas    3000"
      ],
      "text/html": [
       "<div>\n",
       "<style scoped>\n",
       "    .dataframe tbody tr th:only-of-type {\n",
       "        vertical-align: middle;\n",
       "    }\n",
       "\n",
       "    .dataframe tbody tr th {\n",
       "        vertical-align: top;\n",
       "    }\n",
       "\n",
       "    .dataframe thead th {\n",
       "        text-align: right;\n",
       "    }\n",
       "</style>\n",
       "<table border=\"1\" class=\"dataframe\">\n",
       "  <thead>\n",
       "    <tr style=\"text-align: right;\">\n",
       "      <th></th>\n",
       "      <th>ID</th>\n",
       "      <th>Departamento</th>\n",
       "      <th>Sueldo</th>\n",
       "    </tr>\n",
       "    <tr>\n",
       "      <th>Nombre</th>\n",
       "      <th></th>\n",
       "      <th></th>\n",
       "      <th></th>\n",
       "    </tr>\n",
       "  </thead>\n",
       "  <tbody>\n",
       "    <tr>\n",
       "      <th>Rosa</th>\n",
       "      <td>1</td>\n",
       "      <td>Ventas</td>\n",
       "      <td>1500</td>\n",
       "    </tr>\n",
       "    <tr>\n",
       "      <th>Juan</th>\n",
       "      <td>2</td>\n",
       "      <td>Logistica</td>\n",
       "      <td>2000</td>\n",
       "    </tr>\n",
       "    <tr>\n",
       "      <th>María</th>\n",
       "      <td>3</td>\n",
       "      <td>Contabilidad</td>\n",
       "      <td>2500</td>\n",
       "    </tr>\n",
       "    <tr>\n",
       "      <th>Pedro</th>\n",
       "      <td>4</td>\n",
       "      <td>Sistemas</td>\n",
       "      <td>3000</td>\n",
       "    </tr>\n",
       "  </tbody>\n",
       "</table>\n",
       "</div>"
      ]
     },
     "execution_count": 23,
     "metadata": {},
     "output_type": "execute_result"
    }
   ],
   "execution_count": 23
  },
  {
   "metadata": {
    "ExecuteTime": {
     "end_time": "2024-06-20T18:32:34.010527Z",
     "start_time": "2024-06-20T18:32:34.000780Z"
    }
   },
   "cell_type": "code",
   "source": [
    "dfi.drop(['Juan','Pedro'], inplace=True)\n",
    "dfi"
   ],
   "id": "b110e81810f6e812",
   "outputs": [
    {
     "data": {
      "text/plain": [
       "        ID  Departamento  Sueldo\n",
       "Nombre                          \n",
       "Rosa     1        Ventas    1500\n",
       "María    3  Contabilidad    2500"
      ],
      "text/html": [
       "<div>\n",
       "<style scoped>\n",
       "    .dataframe tbody tr th:only-of-type {\n",
       "        vertical-align: middle;\n",
       "    }\n",
       "\n",
       "    .dataframe tbody tr th {\n",
       "        vertical-align: top;\n",
       "    }\n",
       "\n",
       "    .dataframe thead th {\n",
       "        text-align: right;\n",
       "    }\n",
       "</style>\n",
       "<table border=\"1\" class=\"dataframe\">\n",
       "  <thead>\n",
       "    <tr style=\"text-align: right;\">\n",
       "      <th></th>\n",
       "      <th>ID</th>\n",
       "      <th>Departamento</th>\n",
       "      <th>Sueldo</th>\n",
       "    </tr>\n",
       "    <tr>\n",
       "      <th>Nombre</th>\n",
       "      <th></th>\n",
       "      <th></th>\n",
       "      <th></th>\n",
       "    </tr>\n",
       "  </thead>\n",
       "  <tbody>\n",
       "    <tr>\n",
       "      <th>Rosa</th>\n",
       "      <td>1</td>\n",
       "      <td>Ventas</td>\n",
       "      <td>1500</td>\n",
       "    </tr>\n",
       "    <tr>\n",
       "      <th>María</th>\n",
       "      <td>3</td>\n",
       "      <td>Contabilidad</td>\n",
       "      <td>2500</td>\n",
       "    </tr>\n",
       "  </tbody>\n",
       "</table>\n",
       "</div>"
      ]
     },
     "execution_count": 25,
     "metadata": {},
     "output_type": "execute_result"
    }
   ],
   "execution_count": 25
  },
  {
   "metadata": {},
   "cell_type": "markdown",
   "source": "#### Eliminar columnas por el nombre de la columna",
   "id": "e2f4470c649d618e"
  },
  {
   "metadata": {
    "ExecuteTime": {
     "end_time": "2024-06-20T18:34:16.835811Z",
     "start_time": "2024-06-20T18:34:16.826986Z"
    }
   },
   "cell_type": "code",
   "source": [
    "DF.drop(['ID','Departamento'], axis=1, inplace=True)\n",
    "DF"
   ],
   "id": "545bb9326642cdb6",
   "outputs": [
    {
     "data": {
      "text/plain": [
       "  Nombre  Sueldo\n",
       "0   Rosa    1500\n",
       "1   Juan    2000\n",
       "2  María    2500\n",
       "3  Pedro    3000"
      ],
      "text/html": [
       "<div>\n",
       "<style scoped>\n",
       "    .dataframe tbody tr th:only-of-type {\n",
       "        vertical-align: middle;\n",
       "    }\n",
       "\n",
       "    .dataframe tbody tr th {\n",
       "        vertical-align: top;\n",
       "    }\n",
       "\n",
       "    .dataframe thead th {\n",
       "        text-align: right;\n",
       "    }\n",
       "</style>\n",
       "<table border=\"1\" class=\"dataframe\">\n",
       "  <thead>\n",
       "    <tr style=\"text-align: right;\">\n",
       "      <th></th>\n",
       "      <th>Nombre</th>\n",
       "      <th>Sueldo</th>\n",
       "    </tr>\n",
       "  </thead>\n",
       "  <tbody>\n",
       "    <tr>\n",
       "      <th>0</th>\n",
       "      <td>Rosa</td>\n",
       "      <td>1500</td>\n",
       "    </tr>\n",
       "    <tr>\n",
       "      <th>1</th>\n",
       "      <td>Juan</td>\n",
       "      <td>2000</td>\n",
       "    </tr>\n",
       "    <tr>\n",
       "      <th>2</th>\n",
       "      <td>María</td>\n",
       "      <td>2500</td>\n",
       "    </tr>\n",
       "    <tr>\n",
       "      <th>3</th>\n",
       "      <td>Pedro</td>\n",
       "      <td>3000</td>\n",
       "    </tr>\n",
       "  </tbody>\n",
       "</table>\n",
       "</div>"
      ]
     },
     "execution_count": 29,
     "metadata": {},
     "output_type": "execute_result"
    }
   ],
   "execution_count": 29
  },
  {
   "metadata": {},
   "cell_type": "markdown",
   "source": "# Iteración",
   "id": "ee28146a751ac921"
  },
  {
   "metadata": {},
   "cell_type": "markdown",
   "source": "### Método iterrows() | Tomar cada elemento del DataFrame, uno tras otro.",
   "id": "5ac5a731269699fc"
  },
  {
   "metadata": {
    "ExecuteTime": {
     "end_time": "2024-06-20T18:35:38.186275Z",
     "start_time": "2024-06-20T18:35:38.180238Z"
    }
   },
   "cell_type": "code",
   "source": [
    "for i,j in DF.iterrows():\n",
    "    print(i,j)\n",
    "    print()"
   ],
   "id": "d1c73a4c4cb685b4",
   "outputs": [
    {
     "name": "stdout",
     "output_type": "stream",
     "text": [
      "0 Nombre    Rosa\n",
      "Sueldo    1500\n",
      "Name: 0, dtype: object\n",
      "\n",
      "1 Nombre    Juan\n",
      "Sueldo    2000\n",
      "Name: 1, dtype: object\n",
      "\n",
      "2 Nombre    María\n",
      "Sueldo     2500\n",
      "Name: 2, dtype: object\n",
      "\n",
      "3 Nombre    Pedro\n",
      "Sueldo     3000\n",
      "Name: 3, dtype: object\n",
      "\n"
     ]
    }
   ],
   "execution_count": 30
  }
 ],
 "metadata": {
  "kernelspec": {
   "display_name": "Python 3",
   "language": "python",
   "name": "python3"
  },
  "language_info": {
   "codemirror_mode": {
    "name": "ipython",
    "version": 2
   },
   "file_extension": ".py",
   "mimetype": "text/x-python",
   "name": "python",
   "nbconvert_exporter": "python",
   "pygments_lexer": "ipython2",
   "version": "2.7.6"
  }
 },
 "nbformat": 4,
 "nbformat_minor": 5
}
